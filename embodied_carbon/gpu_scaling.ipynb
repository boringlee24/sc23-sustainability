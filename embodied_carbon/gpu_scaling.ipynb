{
 "cells": [
  {
   "attachments": {},
   "cell_type": "markdown",
   "metadata": {},
   "source": [
    "# Scale number of GPUs while keeping the CPU number the same"
   ]
  },
  {
   "cell_type": "code",
   "execution_count": 3,
   "metadata": {},
   "outputs": [],
   "source": [
    "import json\n",
    "import glob\n",
    "import numpy as np"
   ]
  },
  {
   "cell_type": "code",
   "execution_count": 4,
   "metadata": {},
   "outputs": [],
   "source": [
    "benchmark_paths = {\n",
    "    'candle': '/work/li.baol/GIT/candle_benchmarks/benchmark_logs',\n",
    "    'cv': '/work/li.baol/GIT/examples/imagenet/benchmark_logs',\n",
    "    'nlp': '/work/li.baol/GIT/transformers/examples/pytorch/question-answering/benchmark_logs'\n",
    "}\n",
    "\n",
    "upgrade_options = [1, 2, 4]\n",
    "\n",
    "perf_scale = {} # {'cv': {1x: x, 2x: x, 4x: x}}\n",
    "carbon_scale = {}\n",
    "\n",
    "for benchmark in benchmark_paths:\n",
    "    perf_scale[benchmark] = {}\n",
    "    carbon_scale[benchmark] = {}\n",
    "    for scale in upgrade_options:\n",
    "        read_path_carbon = f'{benchmark_paths[benchmark]}/{scale}xv100/carbon_*.json'\n",
    "        read_list_carbon = glob.glob(read_path_carbon)\n",
    "        read_path_perf = f'{benchmark_paths[benchmark]}/{scale}xv100/time_*.json'\n",
    "        read_list_perf = glob.glob(read_path_perf)        \n",
    "        perf_scale[benchmark][scale] = []\n",
    "        carbon_scale[benchmark][scale] = []\n",
    "        for read in read_list_perf:\n",
    "            with open(read) as f:\n",
    "                load = json.load(f)\n",
    "            perf_scale[benchmark][scale].append(np.mean(load[1:])/scale)\n",
    "        for read in read_list_carbon:\n",
    "            with open(read) as f:\n",
    "                load = json.load(f)\n",
    "            carbon_scale[benchmark][scale].append(np.mean(load['energy (kWh)'])/scale)\n",
    "    norm_perf = np.array(perf_scale[benchmark][1])\n",
    "    norm_carbon = np.array(carbon_scale[benchmark][1])    \n",
    "    for scale in upgrade_options:\n",
    "        perf_scale[benchmark][scale] = np.mean(np.array(perf_scale[benchmark][scale]) / norm_perf)\n",
    "        carbon_scale[benchmark][scale] = np.mean(np.array(carbon_scale[benchmark][scale]) / norm_carbon)\n",
    "with open('iteration_time_vs_num_gpu.json', 'w') as f:\n",
    "    json.dump(perf_scale, f, indent=4)        \n",
    "with open('operational_carbon_vs_num_gpu.json', 'w') as f:\n",
    "    json.dump(carbon_scale, f, indent=4)            "
   ]
  },
  {
   "cell_type": "code",
   "execution_count": null,
   "metadata": {},
   "outputs": [],
   "source": []
  }
 ],
 "metadata": {
  "kernelspec": {
   "display_name": "pytorch1.10",
   "language": "python",
   "name": "python3"
  },
  "language_info": {
   "codemirror_mode": {
    "name": "ipython",
    "version": 3
   },
   "file_extension": ".py",
   "mimetype": "text/x-python",
   "name": "python",
   "nbconvert_exporter": "python",
   "pygments_lexer": "ipython3",
   "version": "3.10.4"
  },
  "orig_nbformat": 4
 },
 "nbformat": 4,
 "nbformat_minor": 2
}
