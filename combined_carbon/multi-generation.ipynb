{
 "cells": [
  {
   "cell_type": "code",
   "execution_count": 1,
   "metadata": {},
   "outputs": [],
   "source": [
    "import json\n",
    "import glob\n",
    "import numpy as np"
   ]
  },
  {
   "cell_type": "code",
   "execution_count": 2,
   "metadata": {},
   "outputs": [],
   "source": [
    "embodied_carbon = {\n",
    "    'p100': 16608.56,\n",
    "    'v100': 24683.58,\n",
    "    'a100': 41937.91\n",
    "}\n",
    "\n",
    "benchmark_paths = {\n",
    "    'candle': '/work/li.baol/GIT/candle_benchmarks/benchmark_logs',\n",
    "    'cv': '/work/li.baol/GIT/examples/imagenet/benchmark_logs',\n",
    "    'nlp': '/work/li.baol/GIT/transformers/examples/pytorch/question-answering/benchmark_logs'\n",
    "}\n",
    "\n",
    "upgrade_options = [('p100', 'v100'), ('p100', 'a100'), ('v100', 'a100')]\n",
    "with open('embodied_carbon_gCO2.json', 'w') as f:\n",
    "    json.dump(embodied_carbon, f, indent=4)"
   ]
  },
  {
   "cell_type": "code",
   "execution_count": 3,
   "metadata": {},
   "outputs": [],
   "source": [
    "perf_gain = {}\n",
    "\n",
    "for option in upgrade_options:\n",
    "    perf_gain[str(option)] = {} # {'p100-v100': {'cv': xxx}, ...}\n",
    "    for k, v in benchmark_paths.items():\n",
    "        base, upgrade = option[0], option[1] # p100, v100\n",
    "        base_path = f'{v}/1x{base}'\n",
    "        upgrade_path = f'{v}/1x{upgrade}'\n",
    "        read_list = glob.glob(f'{base_path}/time_*.json')\n",
    "        perf = {}\n",
    "        for generation in [base, upgrade]:\n",
    "            perf[generation] = []\n",
    "            for read in read_list:\n",
    "                if generation == upgrade:\n",
    "                    filename = read.replace(base, upgrade)\n",
    "                else:\n",
    "                    filename = read\n",
    "                with open(filename) as f:\n",
    "                    load = json.load(f)\n",
    "                perf[generation].append(np.mean(load[1:]))\n",
    "        perf_diff = (np.array(perf[base]) - np.array(perf[upgrade])) / np.array(perf[base]) * 100\n",
    "        perf_gain[str(option)][k] = np.mean(perf_diff)\n",
    "with open('perf_gain.json', 'w') as f:\n",
    "    json.dump(perf_gain, f, indent=4)"
   ]
  },
  {
   "cell_type": "code",
   "execution_count": 4,
   "metadata": {},
   "outputs": [
    {
     "data": {
      "text/plain": [
       "{'candle': {'carbon_combo.json': 0.4509085734727526,\n",
       "  'carbon_nt3.json': 0.24721815143162584,\n",
       "  'carbon_p1b2.json': 0.39437661150643727,\n",
       "  'carbon_st1.json': 0.23193688027446757,\n",
       "  'carbon_tc1.json': 0.24670639649130424},\n",
       " 'cv': {'carbon_resnet50.json': 0.2792243535201363,\n",
       "  'carbon_resnext50_32x4d.json': 0.27445470444060993,\n",
       "  'carbon_shufflenet_v2_x1_5.json': 0.4659915655246899,\n",
       "  'carbon_vgg19_bn.json': 0.2982994422791288,\n",
       "  'carbon_vit_b_16.json': 0.24886130579300078},\n",
       " 'nlp': {'carbon_bert-base-uncased.json': 0.23648722632610109,\n",
       "  'carbon_distilbert-base-cased.json': 0.23989652036196052,\n",
       "  'carbon_microsoft-mpnet-base.json': 0.2556783520503392,\n",
       "  'carbon_roberta-base.json': 0.23512827429819785,\n",
       "  'carbon_valhalla-bart-large-finetuned-squadv1.json': 0.2386524836683373}}"
      ]
     },
     "execution_count": 4,
     "metadata": {},
     "output_type": "execute_result"
    }
   ],
   "source": [
    "cpu_ratio = {} # {'cv': {'workload1': x}}\n",
    "for k, v in benchmark_paths.items():\n",
    "    cpu_ratio[k] = {}\n",
    "    gpu_path = f'{v}/1xv100'\n",
    "    cpu_path = f'{v}/1xcpu'\n",
    "    read_list = glob.glob(f'{gpu_path}/carbon_*.json')\n",
    "    for read in read_list:        \n",
    "        with open(read) as f:\n",
    "            load = json.load(f)\n",
    "        gpu_energy = load['energy (kWh)']\n",
    "        read = read.replace('v100', 'cpu')\n",
    "        with open(read) as f:\n",
    "            load = json.load(f)\n",
    "        cpu_energy = load['energy (kWh)']\n",
    "        workload = read.split('/')[-1]\n",
    "        cpu_ratio[k][workload] = cpu_energy / gpu_energy\n",
    "cpu_ratio"
   ]
  },
  {
   "cell_type": "code",
   "execution_count": 5,
   "metadata": {},
   "outputs": [],
   "source": [
    "energy_per_run = {} # in kWh unit, per run, per GPU\n",
    "\n",
    "daily_usage_ratio = .4\n",
    "for option in upgrade_options:\n",
    "    energy_per_run[option] = {} # {'p100-v100': {'cv': {'p100': [xx, xx], 'v100': [x], 'runs_per_day': [xx]}}, ...}\n",
    "    for k, v in benchmark_paths.items(): # {candle: xxx, cv: xxx}\n",
    "        base, upgrade = option[0], option[1] # p100, v100\n",
    "        base_path = f'{v}/1x{base}'\n",
    "        upgrade_path = f'{v}/1x{upgrade}'\n",
    "        read_list = glob.glob(f'{base_path}/carbon_*.json')\n",
    "        energy_per_run[option][k] = {}\n",
    "        energy_per_run[option][k]['runs_per_day'] = []\n",
    "        for generation in [base, upgrade]:\n",
    "            energy_per_run[option][k][generation] = []            \n",
    "            for read in read_list:\n",
    "                if generation == upgrade:\n",
    "                    filename = read.replace(base, upgrade)\n",
    "                else:\n",
    "                    filename = read\n",
    "                with open(filename) as f:\n",
    "                    load = json.load(f)\n",
    "                total_energy = load['energy (kWh)']\n",
    "                if generation == 'a100':\n",
    "                    testcase = read.split('/')[-1]\n",
    "                    ratio = cpu_ratio[k][testcase]\n",
    "                    total_energy = total_energy / (1 - ratio)\n",
    "                energy_per_run[option][k][generation].append(total_energy)\n",
    "                if generation == base:\n",
    "                    duration = load['duration (s)']\n",
    "                    num_runs = 24 * 60 * 60 * daily_usage_ratio / duration\n",
    "                    energy_per_run[option][k]['runs_per_day'].append(num_runs)\n"
   ]
  },
  {
   "cell_type": "code",
   "execution_count": 6,
   "metadata": {},
   "outputs": [],
   "source": [
    "kWh_per_day = {} #{'p100-v100': {'cv': {'p100': xx, 'v100': [x]}}}\n",
    "for option in energy_per_run:\n",
    "    kWh_per_day[str(option)] = {}\n",
    "    for model_type, val in energy_per_run[option].items():\n",
    "        kWh_per_day[str(option)][model_type] = {}\n",
    "        base, upgrade = option[0], option[1]\n",
    "        kWh_per_day[str(option)][model_type][base] = np.mean(np.array(val[base]) * np.array(val['runs_per_day']))\n",
    "        kWh_per_day[str(option)][model_type][upgrade] = np.mean(np.array(val[upgrade]) * np.array(val['runs_per_day']))\n",
    "with open('operation_carbon_kWh_per_day.json', 'w') as f:\n",
    "    json.dump(kWh_per_day, f, indent=4)        "
   ]
  },
  {
   "cell_type": "code",
   "execution_count": 7,
   "metadata": {},
   "outputs": [
    {
     "data": {
      "text/plain": [
       "{\"('p100', 'v100')\": {'candle': {'p100': 1.9188005377049862,\n",
       "   'v100': 1.55106678768845},\n",
       "  'cv': {'p100': 2.297810571741488, 'v100': 1.8487037611495065},\n",
       "  'nlp': {'p100': 2.345773592819839, 'v100': 1.8336973008366404}},\n",
       " \"('p100', 'a100')\": {'candle': {'p100': 1.9188005377049862,\n",
       "   'a100': 0.7565739983530946},\n",
       "  'cv': {'p100': 2.297810571741488, 'a100': 0.9873210009293063},\n",
       "  'nlp': {'p100': 2.345773592819839, 'a100': 1.255950342906979}},\n",
       " \"('v100', 'a100')\": {'candle': {'v100': 2.918078612656404,\n",
       "   'a100': 1.3715330831131818},\n",
       "  'cv': {'v100': 3.2541994069663644, 'a100': 1.6866693977075802},\n",
       "  'nlp': {'v100': 3.3337250272624828, 'a100': 2.2785614722888266}}}"
      ]
     },
     "execution_count": 7,
     "metadata": {},
     "output_type": "execute_result"
    }
   ],
   "source": [
    "kWh_per_day"
   ]
  }
 ],
 "metadata": {
  "kernelspec": {
   "display_name": "pytorch1.10",
   "language": "python",
   "name": "python3"
  },
  "language_info": {
   "codemirror_mode": {
    "name": "ipython",
    "version": 3
   },
   "file_extension": ".py",
   "mimetype": "text/x-python",
   "name": "python",
   "nbconvert_exporter": "python",
   "pygments_lexer": "ipython3",
   "version": "3.10.4"
  },
  "orig_nbformat": 4
 },
 "nbformat": 4,
 "nbformat_minor": 2
}
